{
 "cells": [
  {
   "cell_type": "markdown",
   "metadata": {},
   "source": [
    "# Large Matrix Algebra Broadcasting\n",
    "\n",
    "Back to [**Fan**](http://fanwangecon.github.io)'s [**Matlab Examples Table of Content**](https://fanwangecon.github.io/M4Econ/)\n",
    "\n",
    "Addition, subtraction, these basic algebra tasks are extremely fast. \n",
    "\n",
    "But creating new matrixes are slow.\n",
    "\n",
    "Matrix [broadcasting](https://www.mathworks.com/help/matlab/matlab_prog/compatible-array-sizes-for-basic-operations.html), which matlab calls [implicit expansion](https://blogs.mathworks.com/loren/2016/10/24/matlab-arithmetic-expands-in-r2016b/) was introduced in matlab r2016b. \n",
    "\n",
    "Let's broacast and do arithmetics together. "
   ]
  },
  {
   "cell_type": "markdown",
   "metadata": {},
   "source": [
    "## Broadcast Combine States and Choices\n",
    "\n",
    "We will use a state space vector for column values, and choice vector as row values. This should be done this way for fast maximization because matlab is a [column-major](https://en.wikipedia.org/wiki/Row-_and_column-major_order) language. \n",
    "\n",
    "Broacasting is a very basic idea, we can add states and choices together without replicating matrixes initially. This improves memory usage potentially significantly when we deal with large matrixes"
   ]
  },
  {
   "cell_type": "code",
   "execution_count": 1,
   "metadata": {},
   "outputs": [
    {
     "name": "stdout",
     "output_type": "stream",
     "text": [
      "\n",
      "ar_cash_on_hand =\n",
      "\n",
      "     1     2     3     4     5     6     7     8     9    10\n",
      "\n",
      "\n",
      "ar_b_choice =\n",
      "\n",
      "    1.0000    3.2500    5.5000    7.7500   10.0000\n",
      "\n",
      "     1     2     3     4     5     6     7     8     9    10\n",
      "\n",
      "    1.0000    3.2500    5.5000    7.7500   10.0000\n",
      "\n",
      "\n"
     ]
    }
   ],
   "source": [
    "clear all\n",
    "% Here are our state and choice vectors\n",
    "it_cash_on_hand_n = 10;\n",
    "ar_cash_on_hand = linspace(1,10,it_cash_on_hand_n)\n",
    "it_b_choice_n = 5;\n",
    "ar_b_choice = linspace(1,10,it_b_choice_n)\n",
    "disp(ar_cash_on_hand);\n",
    "disp(ar_b_choice);"
   ]
  },
  {
   "cell_type": "code",
   "execution_count": 2,
   "metadata": {},
   "outputs": [
    {
     "name": "stdout",
     "output_type": "stream",
     "text": [
      "\n",
      "ans =\n",
      "\n",
      "         0    1.0000    2.0000    3.0000    4.0000    5.0000    6.0000    7.0000    8.0000    9.0000\n",
      "   -2.2500   -1.2500   -0.2500    0.7500    1.7500    2.7500    3.7500    4.7500    5.7500    6.7500\n",
      "   -4.5000   -3.5000   -2.5000   -1.5000   -0.5000    0.5000    1.5000    2.5000    3.5000    4.5000\n",
      "   -6.7500   -5.7500   -4.7500   -3.7500   -2.7500   -1.7500   -0.7500    0.2500    1.2500    2.2500\n",
      "   -9.0000   -8.0000   -7.0000   -6.0000   -5.0000   -4.0000   -3.0000   -2.0000   -1.0000         0\n",
      "\n",
      "\n"
     ]
    }
   ],
   "source": [
    "% broacast together to generate all combinations of states and choices\n",
    "ar_cash_on_hand - ar_b_choice'"
   ]
  },
  {
   "cell_type": "markdown",
   "metadata": {},
   "source": [
    "## Initialize"
   ]
  },
  {
   "cell_type": "code",
   "execution_count": 3,
   "metadata": {},
   "outputs": [
    {
     "name": "stdout",
     "output_type": "stream",
     "text": [
      "\n"
     ]
    }
   ],
   "source": [
    "% Let's have larger matrixes\n",
    "it_b_choice_n = 300;\n",
    "it_cash_on_hand_n = round(((it_b_choice_n-1)*it_b_choice_n)/2 + it_b_choice_n);\n",
    "ar_cash_on_hand = linspace(1,10,it_cash_on_hand_n);\n",
    "ar_b_choice = linspace(1,10,it_b_choice_n);\n",
    "ar_k_choice = 10 - ar_b_choice;"
   ]
  },
  {
   "cell_type": "code",
   "execution_count": 4,
   "metadata": {},
   "outputs": [
    {
     "name": "stdout",
     "output_type": "stream",
     "text": [
      "\n"
     ]
    }
   ],
   "source": [
    "% ar_fl_exe_times = {};\n",
    "% ar_fl_exe_desc = {};\n",
    "it_coll = 0;\n",
    "z = 15;\n",
    "iter = 50;"
   ]
  },
  {
   "cell_type": "markdown",
   "metadata": {},
   "source": [
    "## Broadcasting Speed\n",
    "Now, let's use larger matrixes, and run our broadcast method many times. "
   ]
  },
  {
   "cell_type": "code",
   "execution_count": 5,
   "metadata": {},
   "outputs": [
    {
     "name": "stdout",
     "output_type": "stream",
     "text": [
      "\n",
      "ans =\n",
      "\n",
      "         300       45150\n",
      "\n",
      "\n"
     ]
    }
   ],
   "source": [
    "% Interpolation Evaluator\n",
    "f_broadcast_algebra = @() ar_cash_on_hand - ar_b_choice'/(1+0.02) - ar_k_choice';\n",
    "size(f_broadcast_algebra())"
   ]
  },
  {
   "cell_type": "code",
   "execution_count": 6,
   "metadata": {},
   "outputs": [
    {
     "name": "stdout",
     "output_type": "stream",
     "text": [
      "\n"
     ]
    }
   ],
   "source": [
    "fl_exe_time = timeit(f_broadcast_algebra);\n",
    "it_coll = it_coll + 1;\n",
    "ar_fl_exe_times(it_coll) = fl_exe_time;\n",
    "ar_fl_exe_desc{it_coll} = 'Broadcast from Vectors';"
   ]
  },
  {
   "cell_type": "markdown",
   "metadata": {},
   "source": [
    "## Broadcasting Speed With Initialized Matrix.\n",
    "Same thing as before, but let's see if speed improves when we initialize the full matrix and add to that. "
   ]
  },
  {
   "cell_type": "code",
   "execution_count": 7,
   "metadata": {},
   "outputs": [
    {
     "name": "stdout",
     "output_type": "stream",
     "text": [
      "\n"
     ]
    }
   ],
   "source": [
    "mt_zero_init = zeros([it_b_choice_n, it_cash_on_hand_n]);"
   ]
  },
  {
   "cell_type": "code",
   "execution_count": 8,
   "metadata": {},
   "outputs": [
    {
     "name": "stdout",
     "output_type": "stream",
     "text": [
      "\n"
     ]
    }
   ],
   "source": [
    "% Interpolation Evaluator\n",
    "f_broadcast_algebra_initialized = @() mt_zero_init + ar_cash_on_hand - ar_b_choice'/(1+0.02) - ar_k_choice';"
   ]
  },
  {
   "cell_type": "code",
   "execution_count": 9,
   "metadata": {},
   "outputs": [
    {
     "name": "stdout",
     "output_type": "stream",
     "text": [
      "\n"
     ]
    }
   ],
   "source": [
    "fl_exe_time = timeit(f_broadcast_algebra_initialized);\n",
    "it_coll = it_coll + 1;\n",
    "ar_fl_exe_times(it_coll) = fl_exe_time;\n",
    "ar_fl_exe_desc{it_coll} = 'Broadcast from Zero Matrix Plus Vectors';"
   ]
  },
  {
   "cell_type": "markdown",
   "metadata": {},
   "source": [
    "## Broadcasting Speed With Initialized Matrix Equal to Existing\n",
    "\n",
    "We will now use two functions. The difference is wehtehr the output matrix is initialized first. "
   ]
  },
  {
   "cell_type": "code",
   "execution_count": 10,
   "metadata": {},
   "outputs": [
    {
     "name": "stdout",
     "output_type": "stream",
     "text": [
      "\n"
     ]
    }
   ],
   "source": [
    "% function [mt_c] =  ff_broadcast_mat(ar_cash_on_hand, ar_b_choice, ar_k_choice)\n",
    "% % Assume ar_b_choice and ar_k_choice are N by 1\n",
    "% % Assume ar_cash_on_hand and ar_k_choice are 1 by M\n",
    "%     mt_c = ar_cash_on_hand - ar_b_choice/(1+0.02) - ar_k_choice;\n",
    "% end\n",
    "\n",
    "% function [mt_c] =  ff_broadcast_zeros(ar_cash_on_hand, ar_b_choice, ar_k_choice)\n",
    "% % Assume ar_b_choice and ar_k_choice are N by 1\n",
    "% % Assume ar_cash_on_hand and ar_k_choice are 1 by M\n",
    "%     mt_c = zeros([length(ar_b_choice), length(ar_cash_on_hand)]);\n",
    "%     mt_c = mt_c +  ar_cash_on_hand - ar_b_choice/(1+0.02) - ar_k_choice;\n",
    "% end"
   ]
  },
  {
   "cell_type": "code",
   "execution_count": 11,
   "metadata": {},
   "outputs": [
    {
     "name": "stdout",
     "output_type": "stream",
     "text": [
      "\n"
     ]
    }
   ],
   "source": [
    "% Evaluators\n",
    "f_broadcast_alg_newmat_func = @() ff_broadcast_mat(ar_cash_on_hand, ar_b_choice', ar_k_choice');\n",
    "f_broadcast_alg_initialize_func = @() ff_broadcast_zeros(ar_cash_on_hand, ar_b_choice', ar_k_choice');"
   ]
  },
  {
   "cell_type": "code",
   "execution_count": 12,
   "metadata": {},
   "outputs": [
    {
     "name": "stdout",
     "output_type": "stream",
     "text": [
      "\n"
     ]
    }
   ],
   "source": [
    "fl_exe_time = timeit(f_broadcast_alg_newmat_func);\n",
    "it_coll = it_coll + 1;\n",
    "ar_fl_exe_times(it_coll) = fl_exe_time;\n",
    "ar_fl_exe_desc{it_coll} = 'Broadcast Function Without Initialization';"
   ]
  },
  {
   "cell_type": "code",
   "execution_count": 13,
   "metadata": {},
   "outputs": [
    {
     "name": "stdout",
     "output_type": "stream",
     "text": [
      "\n"
     ]
    }
   ],
   "source": [
    "fl_exe_time = timeit(f_broadcast_alg_initialize_func);\n",
    "it_coll = it_coll + 1;\n",
    "ar_fl_exe_times(it_coll) = fl_exe_time;\n",
    "ar_fl_exe_desc{it_coll} = 'Broadcast Function with empty Initialization';"
   ]
  },
  {
   "cell_type": "markdown",
   "metadata": {},
   "source": [
    "## Timing Results"
   ]
  },
  {
   "cell_type": "code",
   "execution_count": 14,
   "metadata": {},
   "outputs": [
    {
     "name": "stdout",
     "output_type": "stream",
     "text": [
      "                                                    speedmat    speedfull\n",
      "                                                    ________    _________\n",
      "\n",
      "    Broadcast from Vectors                          0.070854      53.14  \n",
      "    Broadcast from Zero Matrix Plus Vectors         0.073897     55.423  \n",
      "    Broadcast Function Without Initialization        0.03464      25.98  \n",
      "    Broadcast Function with empty Initialization    0.037027      27.77  \n",
      "\n",
      "\n"
     ]
    }
   ],
   "source": [
    "tb_exe_times = array2table([ar_fl_exe_times', ar_fl_exe_times'*z*iter]);\n",
    "tb_exe_times.Properties.RowNames = ar_fl_exe_desc;\n",
    "tb_exe_times.Properties.VariableNames = {'speedmat', 'speedfull'};\n",
    "disp(tb_exe_times);"
   ]
  }
 ],
 "metadata": {
  "kernelspec": {
   "display_name": "Matlab",
   "language": "matlab",
   "name": "matlab"
  },
  "language_info": {
   "codemirror_mode": "octave",
   "file_extension": ".m",
   "help_links": [
    {
     "text": "MetaKernel Magics",
     "url": "https://metakernel.readthedocs.io/en/latest/source/README.html"
    }
   ],
   "mimetype": "text/x-octave",
   "name": "matlab",
   "version": "0.16.4"
  }
 },
 "nbformat": 4,
 "nbformat_minor": 2
}
