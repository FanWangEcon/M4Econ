{
 "cells": [
  {
   "cell_type": "markdown",
   "metadata": {},
   "source": [
    "# Fast Index Replacement for Negative Consumption\n",
    "\n",
    "Back to [**Fan**](http://fanwangecon.github.io)'s [**Matlab Examples Table of Content**](https://fanwangecon.github.io/M4Econ/)\n",
    "\n",
    "Given some matrix, replace values by some number if satisfy certain condition. \n",
    "\n",
    "Below I demonstrate a subsetting method that is potentially much faster than the standard subsetting method. \n",
    "\n",
    "Matlab offers indexing [satisfy certain conditions](https://www.mathworks.com/help/matlab/matlab_prog/find-array-elements-that-meet-a-condition.html).\n",
    "\n",
    "Indexing in matlab is fast, but while one might not suspect it, setting values based on index to another value is potentially very slow. \n",
    "\n",
    "This operation:\n",
    "- mat_a(index_a) = float_b\n",
    "is potentially slow. This turns out to be a speed bottleneck in solving standard problems with consumption, where for some range of choices, consumption is negative, so we need to reset utility values when utility is invalid. When other parts of codes are sped up through various other mechanism, this single index replacement operation could take up a substantial proportion of remaining overall solution time for a standard dynamic asset problem. \n",
    "\n",
    "Below, I show speed up achieved by doing the above operation like this:\n",
    "- mat_a = mat_a.*(~index_a) + float_b*(index_a);\n",
    "\n",
    "This brings up a signficant improvement in speed.\n",
    "\n",
    "For large matrixes, this improves speed by up to 10 to 20 times. \n",
    "\n",
    "Related to this is logical vs linear index. Logical index should be used vs linear. \n",
    "\n",
    "**NOTE**: The below performance gain only achieved when using double, if using single as data type, standard method is faster."
   ]
  },
  {
   "cell_type": "markdown",
   "metadata": {},
   "source": [
    "## Logical vs Linear Index"
   ]
  },
  {
   "cell_type": "code",
   "execution_count": 401,
   "metadata": {},
   "outputs": [
    {
     "name": "stdout",
     "output_type": "stream",
     "text": [
      "    0.5277    0.6867   -0.2836    0.4138   -0.2113    0.0990    0.5155    0.2865    0.2056    0.6671\n",
      "   -0.0854    0.4878    0.3732    0.1010    0.2074   -0.1707   -0.2196    0.1694    0.5447    0.3788\n",
      "    0.4006    0.4566    0.3528    0.2361    0.2585    0.3627    0.0704    0.1985    0.5254    0.0946\n",
      "   -0.1068    0.2367    0.2856    0.5871    0.0929    0.0206    0.4244   -0.0792   -0.2422    0.6475\n",
      "    0.5228    0.5980   -0.0650    0.3024    0.0604   -0.2228    0.0737   -0.0416    0.5999    0.4811\n",
      "    0.6499    0.0087    0.4472    0.5408    0.0861   -0.0391    0.4120   -0.2313    0.6501    0.1620\n",
      "    0.5626   -0.0925    0.5376    0.5727    0.5547   -0.0530    0.2782    0.0798   -0.1516    0.4953\n",
      "   -0.2344    0.6064   -0.2552   -0.0875    0.5590    0.6959    0.4073    0.3480   -0.1117    0.4339\n",
      "    0.0575    0.3523    0.1984   -0.2129   -0.2308    0.2112    0.5928    0.3997    0.3057   -0.1443\n",
      "   -0.1070   -0.0727    0.6230    0.6632   -0.1159    0.1479    0.6214   -0.2518    0.4268    0.5998\n",
      "\n",
      "\n"
     ]
    }
   ],
   "source": [
    "clear all\n",
    "data = rand([10,10])-0.3;\n",
    "disp(data);"
   ]
  },
  {
   "cell_type": "code",
   "execution_count": 402,
   "metadata": {},
   "outputs": [
    {
     "name": "stdout",
     "output_type": "stream",
     "text": [
      "\n",
      "ans =\n",
      "\n",
      "  10x10 logical array\n",
      "\n",
      "   0   0   1   0   1   0   0   0   0   0\n",
      "   1   0   0   0   0   1   1   0   0   0\n",
      "   0   0   0   0   0   0   0   0   0   0\n",
      "   1   0   0   0   0   0   0   1   1   0\n",
      "   0   0   1   0   0   1   0   1   0   0\n",
      "   0   0   0   0   0   1   0   1   0   0\n",
      "   0   1   0   0   0   1   0   0   1   0\n",
      "   1   0   1   1   0   0   0   0   1   0\n",
      "   0   0   0   1   1   0   0   0   0   1\n",
      "   1   1   0   0   1   0   0   1   0   0\n",
      "\n",
      "\n"
     ]
    }
   ],
   "source": [
    "% Logical Index of Less than Zero Values\n",
    "(data < 0)"
   ]
  },
  {
   "cell_type": "code",
   "execution_count": 403,
   "metadata": {},
   "outputs": [
    {
     "name": "stdout",
     "output_type": "stream",
     "text": [
      "\n",
      "ans =\n",
      "\n",
      "  Columns 1 through 22\n",
      "\n",
      "     2     4     8    10    17    20    21    25    28    38    39    41    49    50    52    55    56    57    62    74    75    76\n",
      "\n",
      "  Columns 23 through 27\n",
      "\n",
      "    80    84    87    88    99\n",
      "\n",
      "\n"
     ]
    }
   ],
   "source": [
    "% linear Index\n",
    "find(data<0)'"
   ]
  },
  {
   "cell_type": "markdown",
   "metadata": {},
   "source": [
    "## The Problem"
   ]
  },
  {
   "cell_type": "code",
   "execution_count": 404,
   "metadata": {},
   "outputs": [
    {
     "name": "stdout",
     "output_type": "stream",
     "text": [
      "\n"
     ]
    }
   ],
   "source": [
    "z = 15;\n",
    "iter = 50;\n",
    "fl_replace_val = -61.2456;\n",
    "it_rown = 300; % 4GB if 1000\n",
    "it_coln = round(((it_rown-1)*it_rown)/2 + it_rown);\n",
    "c_min = -1;\n",
    "c_max = 1;\n",
    "mt_c = rand([it_rown, it_coln])*(c_max - c_min) + c_min;\n",
    "mt_c_dup = mt_c;"
   ]
  },
  {
   "cell_type": "code",
   "execution_count": 405,
   "metadata": {},
   "outputs": [
    {
     "name": "stdout",
     "output_type": "stream",
     "text": [
      "\n"
     ]
    }
   ],
   "source": [
    "% ar_fl_exe_times = {};\n",
    "% ar_fl_exe_desc = {};\n",
    "it_coll = 0;"
   ]
  },
  {
   "cell_type": "markdown",
   "metadata": {},
   "source": [
    "## Time it Takes to Find Index of Negative C values"
   ]
  },
  {
   "cell_type": "code",
   "execution_count": 406,
   "metadata": {},
   "outputs": [
    {
     "name": "stdout",
     "output_type": "stream",
     "text": [
      "\n"
     ]
    }
   ],
   "source": [
    "% Negative c value\n",
    "f_neg_c_log_idx = @() (mt_c < 0);\n",
    "f_pos_c_log_idx = @() (mt_c > 0);\n",
    "f_neg_c_lin_idx = @() find(mt_c < 0);"
   ]
  },
  {
   "cell_type": "code",
   "execution_count": 407,
   "metadata": {},
   "outputs": [
    {
     "name": "stdout",
     "output_type": "stream",
     "text": [
      "\n"
     ]
    }
   ],
   "source": [
    "fl_exe_time = timeit(f_neg_c_log_idx);\n",
    "it_coll = it_coll + 1;\n",
    "ar_fl_exe_times(it_coll) = fl_exe_time;\n",
    "ar_fl_exe_desc{it_coll} = 'logical index timer';"
   ]
  },
  {
   "cell_type": "code",
   "execution_count": 408,
   "metadata": {},
   "outputs": [
    {
     "name": "stdout",
     "output_type": "stream",
     "text": [
      "\n"
     ]
    }
   ],
   "source": [
    "fl_exe_time = timeit(f_neg_c_lin_idx);\n",
    "it_coll = it_coll + 1;\n",
    "ar_fl_exe_times(it_coll) = fl_exe_time;\n",
    "ar_fl_exe_desc{it_coll} = 'linear index timer';"
   ]
  },
  {
   "cell_type": "markdown",
   "metadata": {},
   "source": [
    "## Time it Takes to Subset Based on Logical Index"
   ]
  },
  {
   "cell_type": "code",
   "execution_count": 409,
   "metadata": {},
   "outputs": [
    {
     "name": "stdout",
     "output_type": "stream",
     "text": [
      "\n"
     ]
    }
   ],
   "source": [
    "% Negative c value\n",
    "mt_log_idx = f_neg_c_log_idx();\n",
    "mt_lin_idx = f_neg_c_lin_idx();\n",
    "f_set_neg_c_log_idx = @() mt_c(mt_log_idx);\n",
    "f_set_neg_c_lin_idx = @() mt_c(mt_lin_idx);"
   ]
  },
  {
   "cell_type": "code",
   "execution_count": 410,
   "metadata": {},
   "outputs": [
    {
     "name": "stdout",
     "output_type": "stream",
     "text": [
      "\n"
     ]
    }
   ],
   "source": [
    "fl_exe_time = timeit(f_set_neg_c_log_idx);\n",
    "it_coll = it_coll + 1;\n",
    "ar_fl_exe_times(it_coll) = fl_exe_time;\n",
    "ar_fl_exe_desc{it_coll} = 'get subset logical index timer';"
   ]
  },
  {
   "cell_type": "code",
   "execution_count": 411,
   "metadata": {},
   "outputs": [
    {
     "name": "stdout",
     "output_type": "stream",
     "text": [
      "\n"
     ]
    }
   ],
   "source": [
    "fl_exe_time = timeit(f_set_neg_c_lin_idx);\n",
    "it_coll = it_coll + 1;\n",
    "ar_fl_exe_times(it_coll) = fl_exe_time;\n",
    "ar_fl_exe_desc{it_coll} = 'get subset linear index timer';"
   ]
  },
  {
   "cell_type": "markdown",
   "metadata": {},
   "source": [
    "## Index Replace"
   ]
  },
  {
   "cell_type": "code",
   "execution_count": 412,
   "metadata": {},
   "outputs": [
    {
     "name": "stdout",
     "output_type": "stream",
     "text": [
      "\n"
     ]
    }
   ],
   "source": [
    "mt_pos_log_idx = f_pos_c_log_idx();\n",
    "mt_neg_log_idx = f_neg_c_log_idx();"
   ]
  },
  {
   "cell_type": "code",
   "execution_count": 413,
   "metadata": {},
   "outputs": [
    {
     "name": "stdout",
     "output_type": "stream",
     "text": [
      "Elapsed time is 0.028170 seconds.\n",
      "\n"
     ]
    }
   ],
   "source": [
    "% Fan Index Replace Method\n",
    "tic;\n",
    "mt_c_dup = mt_c_dup.*(~mt_neg_log_idx) + fl_replace_val*(mt_neg_log_idx);\n",
    "toc;"
   ]
  },
  {
   "cell_type": "code",
   "execution_count": 414,
   "metadata": {},
   "outputs": [
    {
     "name": "stdout",
     "output_type": "stream",
     "text": [
      "Elapsed time is 0.090054 seconds.\n",
      "\n"
     ]
    }
   ],
   "source": [
    "% Standard Index Replace Method\n",
    "tic;\n",
    "mt_c_dup(mt_neg_log_idx) = fl_replace_val;\n",
    "toc;"
   ]
  },
  {
   "cell_type": "code",
   "execution_count": 415,
   "metadata": {},
   "outputs": [
    {
     "name": "stdout",
     "output_type": "stream",
     "text": [
      "\n"
     ]
    }
   ],
   "source": [
    "% Fan Replace\n",
    "f_replace_idx_fan = @() ff_subscript_fan_replace(mt_c, mt_neg_log_idx, fl_replace_val);"
   ]
  },
  {
   "cell_type": "code",
   "execution_count": 416,
   "metadata": {},
   "outputs": [
    {
     "name": "stdout",
     "output_type": "stream",
     "text": [
      "\n"
     ]
    }
   ],
   "source": [
    "fl_exe_time = timeit(f_replace_idx_fan);\n",
    "it_coll = it_coll + 1;\n",
    "ar_fl_exe_times(it_coll) = fl_exe_time;\n",
    "ar_fl_exe_desc{it_coll} = 'matrix fan replace method';"
   ]
  },
  {
   "cell_type": "code",
   "execution_count": 417,
   "metadata": {},
   "outputs": [
    {
     "name": "stdout",
     "output_type": "stream",
     "text": [
      "\n"
     ]
    }
   ],
   "source": [
    "% Standard Replace\n",
    "f_replace_idx_mat = @() ff_subscript_mat_replace(mt_c, mt_neg_log_idx, fl_replace_val);"
   ]
  },
  {
   "cell_type": "code",
   "execution_count": 418,
   "metadata": {},
   "outputs": [
    {
     "name": "stdout",
     "output_type": "stream",
     "text": [
      "\n"
     ]
    }
   ],
   "source": [
    "fl_exe_time = timeit(f_replace_idx_mat);\n",
    "it_coll = it_coll + 1;\n",
    "ar_fl_exe_times(it_coll) = fl_exe_time;\n",
    "ar_fl_exe_desc{it_coll} = 'matrix standard replace method';"
   ]
  },
  {
   "cell_type": "markdown",
   "metadata": {},
   "source": [
    "## Double vs Single\n",
    "\n",
    "Double vs Single data definition.\n",
    "Previously Double, now Single."
   ]
  },
  {
   "cell_type": "code",
   "execution_count": 419,
   "metadata": {},
   "outputs": [
    {
     "name": "stdout",
     "output_type": "stream",
     "text": [
      "\n"
     ]
    }
   ],
   "source": [
    "% Double to Single\n",
    "mt_c_single = single(mt_c);\n",
    "mt_neg_log_idx_single = single(mt_neg_log_idx);\n",
    "fl_replace_val_single = single(fl_replace_val);"
   ]
  },
  {
   "cell_type": "code",
   "execution_count": 420,
   "metadata": {},
   "outputs": [
    {
     "name": "stdout",
     "output_type": "stream",
     "text": [
      "\n"
     ]
    }
   ],
   "source": [
    "% mt_neg_log_idx_single"
   ]
  },
  {
   "cell_type": "code",
   "execution_count": 421,
   "metadata": {},
   "outputs": [
    {
     "name": "stdout",
     "output_type": "stream",
     "text": [
      "\n"
     ]
    }
   ],
   "source": [
    "% Fan Replace\n",
    "f_replace_idx_fan = @() ff_subscript_fan_replace(mt_c_single, mt_neg_log_idx, fl_replace_val_single);"
   ]
  },
  {
   "cell_type": "code",
   "execution_count": 422,
   "metadata": {},
   "outputs": [
    {
     "name": "stdout",
     "output_type": "stream",
     "text": [
      "\n"
     ]
    }
   ],
   "source": [
    "fl_exe_time = timeit(f_replace_idx_fan);\n",
    "it_coll = it_coll + 1;\n",
    "ar_fl_exe_times(it_coll) = fl_exe_time;\n",
    "ar_fl_exe_desc{it_coll} = 'matrix fan replace method single';"
   ]
  },
  {
   "cell_type": "code",
   "execution_count": 423,
   "metadata": {},
   "outputs": [
    {
     "name": "stdout",
     "output_type": "stream",
     "text": [
      "\n"
     ]
    }
   ],
   "source": [
    "% Fan Replace Single Matrix converted to Double\n",
    "f_replace_idx_fan = @() ff_subscript_fan_replace(double(mt_c_single), mt_neg_log_idx, fl_replace_val_single);"
   ]
  },
  {
   "cell_type": "code",
   "execution_count": 424,
   "metadata": {},
   "outputs": [
    {
     "name": "stdout",
     "output_type": "stream",
     "text": [
      "\n"
     ]
    }
   ],
   "source": [
    "fl_exe_time = timeit(f_replace_idx_fan);\n",
    "it_coll = it_coll + 1;\n",
    "ar_fl_exe_times(it_coll) = fl_exe_time;\n",
    "ar_fl_exe_desc{it_coll} = 'matrix fan replace method double(single)';"
   ]
  },
  {
   "cell_type": "code",
   "execution_count": 425,
   "metadata": {},
   "outputs": [
    {
     "name": "stdout",
     "output_type": "stream",
     "text": [
      "\n"
     ]
    }
   ],
   "source": [
    "% Standard Replace\n",
    "f_replace_idx_mat = @() ff_subscript_mat_replace(mt_c_single, mt_neg_log_idx, fl_replace_val_single);"
   ]
  },
  {
   "cell_type": "code",
   "execution_count": 426,
   "metadata": {},
   "outputs": [
    {
     "name": "stdout",
     "output_type": "stream",
     "text": [
      "\n"
     ]
    }
   ],
   "source": [
    "fl_exe_time = timeit(f_replace_idx_mat);\n",
    "it_coll = it_coll + 1;\n",
    "ar_fl_exe_times(it_coll) = fl_exe_time;\n",
    "ar_fl_exe_desc{it_coll} = 'matrix standard replace method single';"
   ]
  },
  {
   "cell_type": "markdown",
   "metadata": {},
   "source": [
    "## Timing Results"
   ]
  },
  {
   "cell_type": "code",
   "execution_count": 427,
   "metadata": {},
   "outputs": [
    {
     "name": "stdout",
     "output_type": "stream",
     "text": [
      "                                                speedmat     speedfull\n",
      "                                                _________    _________\n",
      "\n",
      "    logical index timer                         0.0050284     3.7713  \n",
      "    linear index timer                            0.13325     99.934  \n",
      "    get subset logical index timer                0.11559     86.691  \n",
      "    get subset linear index timer                0.073728     55.296  \n",
      "    matrix fan replace method                    0.033476     25.107  \n",
      "    matrix standard replace method                0.15291     114.68  \n",
      "    matrix fan replace method single              0.16469     123.52  \n",
      "    matrix fan replace method double(single)      0.15583     116.88  \n",
      "    matrix standard replace method single         0.11789     88.416  \n",
      "\n",
      "\n"
     ]
    }
   ],
   "source": [
    "tb_exe_times = array2table([ar_fl_exe_times', ar_fl_exe_times'*z*iter]);\n",
    "tb_exe_times.Properties.RowNames = ar_fl_exe_desc;\n",
    "tb_exe_times.Properties.VariableNames = {'speedmat', 'speedfull'};\n",
    "disp(tb_exe_times);"
   ]
  }
 ],
 "metadata": {
  "kernelspec": {
   "display_name": "Matlab",
   "language": "matlab",
   "name": "matlab"
  },
  "language_info": {
   "codemirror_mode": "octave",
   "file_extension": ".m",
   "help_links": [
    {
     "text": "MetaKernel Magics",
     "url": "https://metakernel.readthedocs.io/en/latest/source/README.html"
    }
   ],
   "mimetype": "text/x-octave",
   "name": "matlab",
   "version": "0.16.4"
  }
 },
 "nbformat": 4,
 "nbformat_minor": 2
}
