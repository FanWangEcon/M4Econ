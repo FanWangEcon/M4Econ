{
 "cells": [
  {
   "cell_type": "markdown",
   "metadata": {},
   "source": [
    "# Subset Replacement of U(C) and Storage in Cell Array\n",
    "\n",
    "Back to [**Fan**](http://fanwangecon.github.io)'s [**Matlab Examples Table of Content**](https://fanwangecon.github.io/M4Econ/)\n",
    "\n",
    " [Cell Array Store U(C) to Avoid Duplicate Computation over Iteration](https://fanwangecon.github.io/M4Econ/support/speed/partupdate/fs_u_c_partrepeat_main.html): u(c) where u evaluation involves rational exponentiation, pre-calculate and interpolate\n",
    "\n",
    "During Iteration Solution Procedure, sometimes only a subset of rows/columns need to be updated for some core matrix after each iteration. \n",
    "\n",
    "Potentially, there could be significant speed gains if one does not need to fully recompute based on some N by M matrix, but can compute based on some N-n by M-m matrix, and update values in the N by M matrix with new values. See this [**file**](https://fanwangecon.github.io/M4Econ/support/speed/partupdate/fs_u_c_partrepeat_test.html) for examples when we fully reuse matrixes.\n",
    "\n",
    "As stated [here](https://fanwangecon.github.io/M4Econ/support/speed/partupdate/fs_u_c_partrepeat_test.html), we will store existing calculations in cell arrays. \n",
    "\n",
    "Cell array based index updating is time saving because no additional array copying during slicing is needed.\n",
    "\n",
    "One should not store data in larger tensors or matrixes and slice subsets when needed, that will not lead to speed improvements as shown [here](https://fanwangecon.github.io/M4Econ/support/speed/partupdate/fs_u_c_partrepeat_test.html)."
   ]
  },
  {
   "cell_type": "markdown",
   "metadata": {},
   "source": [
    "## Files\n",
    "\n",
    "- Cell matrix part update function testing: [**ipynb**](https://github.com/FanWangEcon/M4Econ/blob/master/support/speed/partupdate/fs_u_c_partrepeat_main.ipynb) \\| [**html**](https://fanwangecon.github.io/M4Econ/support/speed/partupdate/fs_u_c_partrepeat_main.html)\n",
    "- Cell matrix part update function: [**m**](https://github.com/FanWangEcon/M4Econ/blob/master/support/speed/partupdate/ff_u_c_partrepeat.m) \\| [**html**](https://fanwangecon.github.io/M4Econ/support/speed/partupdate/html/ff_u_c_partrepeat.html)\n",
    "- Direct evaluation and interpolate speed comparison:  [**m**](https://github.com/FanWangEcon/M4Econ/blob/master/support/speed/partupdate/fs_u_c_partrepeat_test.m) \\| [**ipynb**](https://github.com/FanWangEcon/M4Econ/blob/master/support/speed/partupdate/fs_u_c_partrepeat_test.ipynb) \\|  [**html**](https://fanwangecon.github.io/M4Econ/support/speed/partupdate/fs_u_c_partrepeat_test.html)\n",
    "    + **core**: *cell{}, cl_u_store{i}(ar_it_update,:) = f_u(f_c(ar_coh, ar_kp(ar_it_update), ar_bp(ar_it_update)));*\n",
    "    \n",
    "Below I invoke the best subset replace function out of the ones tested with some different parameters and look at resulting speeds. The code below shows the core codes contained in the data subset updating file [here](https://fanwangecon.github.io/M4Econ/support/speed/partupdate/ff_u_c_partrepeat.m)."
   ]
  },
  {
   "cell_type": "code",
   "execution_count": 16,
   "metadata": {},
   "outputs": [
    {
     "name": "stdout",
     "output_type": "stream",
     "text": [
      "\n"
     ]
    }
   ],
   "source": [
    "% %% Full Replace Standard Function\n",
    "% function ffs_full_replace(ar_coh, ar_kp, ar_bp, f_u, f_c, it_iter, it_z)\n",
    "% for it_iter_n=1:1:it_iter\n",
    "%     for it_z_m=1:1:it_z\n",
    "%         mt_u = f_u(f_c(ar_coh, ar_kp, ar_bp));\n",
    "%     end\n",
    "% end"
   ]
  },
  {
   "cell_type": "code",
   "execution_count": 17,
   "metadata": {},
   "outputs": [
    {
     "name": "stdout",
     "output_type": "stream",
     "text": [
      "\n"
     ]
    }
   ],
   "source": [
    "% %% Partial Replace with Cell Indexing\n",
    "% function ffs_cellpart_replace(ar_it_rows_replace, ar_coh, ar_kp, ar_bp, f_u, f_c, it_iter, it_z)\n",
    "% % This is the most efficient method\n",
    "% cl_u_store = cell([it_z, 1]);\n",
    "% tic;\n",
    "% for it_iter_n=1:1:it_iter\n",
    "%     for it_z_m=1:1:it_z\n",
    "%         if (it_iter_n == 1)\n",
    "%             mt_c = f_c(ar_coh, ar_kp, ar_bp);\n",
    "%             mt_u = f_u(mt_c);\n",
    "%             cl_u_store{it_z_m} = mt_u;\n",
    "%         else\n",
    "%             cl_u_store{it_z_m}(ar_it_rows_replace,:) = f_u(f_c(ar_coh, ar_kp(ar_it_rows_replace), ar_bp(ar_it_rows_replace)));\n",
    "%             mt_u = cl_u_store{it_z_m};\n",
    "%         end\n",
    "%     end\n",
    "% end\n",
    "% end"
   ]
  },
  {
   "cell_type": "markdown",
   "metadata": {},
   "source": [
    "## Shifting the State and Choices Sizes\n",
    "\n",
    "Shift Matrix Size"
   ]
  },
  {
   "cell_type": "code",
   "execution_count": 18,
   "metadata": {},
   "outputs": [
    {
     "name": "stdout",
     "output_type": "stream",
     "text": [
      "    'it_coln'    'it_iter'    'it_rown'    'it_rown_update'    'it_z'\n",
      "\n",
      "    [500]    [50]    [50]    [10]    [15]\n",
      "\n",
      "                                                                                                                speedmat    speedfull\n",
      "                                                                                                                ________    _________\n",
      "\n",
      "    Recompuate u(c) every time: mt_u = f_u(f_c(coh, k, b))                                                      0.10303      77.276  \n",
      "    Update u(c) where c changes: store{i}(replace_rows,:) = f_u(f_c(coh, k(replace_rows), b(replace_rows)));    0.06055      45.412  \n",
      "\n",
      "Elapsed time is 0.071729 seconds.\n",
      "\n"
     ]
    }
   ],
   "source": [
    "% Limited States\n",
    "param_map = containers.Map('KeyType','char', 'ValueType','any');\n",
    "param_map('it_rown') = 50;\n",
    "param_map('it_rown_update') = 10;\n",
    "param_map('it_coln') = 500;\n",
    "ff_u_c_partrepeat(param_map)"
   ]
  },
  {
   "cell_type": "code",
   "execution_count": 19,
   "metadata": {},
   "outputs": [
    {
     "name": "stdout",
     "output_type": "stream",
     "text": [
      "    'it_coln'    'it_iter'    'it_rown'    'it_rown_update'    'it_z'\n",
      "\n",
      "    [3000]    [50]    [300]    [60]    [15]\n",
      "\n",
      "                                                                                                                speedmat    speedfull\n",
      "                                                                                                                ________    _________\n",
      "\n",
      "    Recompuate u(c) every time: mt_u = f_u(f_c(coh, k, b))                                                        5.146      3859.5  \n",
      "    Update u(c) where c changes: store{i}(replace_rows,:) = f_u(f_c(coh, k(replace_rows), b(replace_rows)));     2.1983      1648.7  \n",
      "\n",
      "Elapsed time is 2.121624 seconds.\n",
      "\n"
     ]
    }
   ],
   "source": [
    "% More states/choices\n",
    "param_map = containers.Map('KeyType','char', 'ValueType','any');\n",
    "param_map('it_rown') = 300;\n",
    "param_map('it_rown_update') = 60;\n",
    "param_map('it_coln') = 3000;\n",
    "ff_u_c_partrepeat(param_map)"
   ]
  },
  {
   "cell_type": "markdown",
   "metadata": {},
   "source": [
    "## Shifting the Proportion of Values Requiring Updating\n",
    "\n",
    "Shift the number of values that requiring updating. During iteration solution, sometimes the proportion of u(c) values, for fixed grid one choice problem, is 0 percent. \n",
    "\n",
    "For two dimensional choice problem converted to one dimensional problem, the proportion of u(c) that requires changing decreases with each iteration quickly. "
   ]
  },
  {
   "cell_type": "code",
   "execution_count": 20,
   "metadata": {},
   "outputs": [
    {
     "name": "stdout",
     "output_type": "stream",
     "text": [
      "    'it_coln'    'it_iter'    'it_rown'    'it_rown_update'    'it_z'\n",
      "\n",
      "    [3000]    [50]    [300]    [299]    [15]\n",
      "\n",
      "                                                                                                                speedmat    speedfull\n",
      "                                                                                                                ________    _________\n",
      "\n",
      "    Recompuate u(c) every time: mt_u = f_u(f_c(coh, k, b))                                                       5.1754      3881.5  \n",
      "    Update u(c) where c changes: store{i}(replace_rows,:) = f_u(f_c(coh, k(replace_rows), b(replace_rows)));     6.5807      4935.6  \n",
      "\n",
      "Elapsed time is 6.586565 seconds.\n",
      "\n"
     ]
    }
   ],
   "source": [
    "% Update 99 percent.\n",
    "param_map = containers.Map('KeyType','char', 'ValueType','any');\n",
    "param_map('it_rown') = 300;\n",
    "param_map('it_coln') = 3000;\n",
    "param_map('it_rown_update') = param_map('it_rown')-1;\n",
    "ff_u_c_partrepeat(param_map)"
   ]
  },
  {
   "cell_type": "code",
   "execution_count": 21,
   "metadata": {},
   "outputs": [
    {
     "name": "stdout",
     "output_type": "stream",
     "text": [
      "    'it_coln'    'it_iter'    'it_rown'    'it_rown_update'    'it_z'\n",
      "\n",
      "    [3000]    [50]    [300]    [150]    [15]\n",
      "\n",
      "                                                                                                                speedmat    speedfull\n",
      "                                                                                                                ________    _________\n",
      "\n",
      "    Recompuate u(c) every time: mt_u = f_u(f_c(coh, k, b))                                                       5.1774        3883  \n",
      "    Update u(c) where c changes: store{i}(replace_rows,:) = f_u(f_c(coh, k(replace_rows), b(replace_rows)));      3.754      2815.5  \n",
      "\n",
      "Elapsed time is 3.743659 seconds.\n",
      "\n"
     ]
    }
   ],
   "source": [
    "% Update half\n",
    "param_map = containers.Map('KeyType','char', 'ValueType','any');\n",
    "param_map('it_rown') = 300;\n",
    "param_map('it_coln') = 3000;\n",
    "param_map('it_rown_update') = param_map('it_rown')/2;\n",
    "ff_u_c_partrepeat(param_map)"
   ]
  },
  {
   "cell_type": "code",
   "execution_count": 22,
   "metadata": {},
   "outputs": [
    {
     "name": "stdout",
     "output_type": "stream",
     "text": [
      "    'it_coln'    'it_iter'    'it_rown'    'it_rown_update'    'it_z'\n",
      "\n",
      "    [3000]    [50]    [300]    [75]    [15]\n",
      "\n",
      "                                                                                                                speedmat    speedfull\n",
      "                                                                                                                ________    _________\n",
      "\n",
      "    Recompuate u(c) every time: mt_u = f_u(f_c(coh, k, b))                                                       5.1585      3868.9  \n",
      "    Update u(c) where c changes: store{i}(replace_rows,:) = f_u(f_c(coh, k(replace_rows), b(replace_rows)));     2.5474      1910.6  \n",
      "\n",
      "Elapsed time is 2.524945 seconds.\n",
      "\n"
     ]
    }
   ],
   "source": [
    "% Update 1/4\n",
    "param_map = containers.Map('KeyType','char', 'ValueType','any');\n",
    "param_map('it_rown') = 300;\n",
    "param_map('it_coln') = 3000;\n",
    "param_map('it_rown_update') = round(param_map('it_rown')/4);\n",
    "ff_u_c_partrepeat(param_map)"
   ]
  },
  {
   "cell_type": "code",
   "execution_count": 23,
   "metadata": {},
   "outputs": [
    {
     "name": "stdout",
     "output_type": "stream",
     "text": [
      "    'it_coln'    'it_iter'    'it_rown'    'it_rown_update'    'it_z'\n",
      "\n",
      "    [3000]    [50]    [300]    [38]    [15]\n",
      "\n",
      "                                                                                                                speedmat    speedfull\n",
      "                                                                                                                ________    _________\n",
      "\n",
      "    Recompuate u(c) every time: mt_u = f_u(f_c(coh, k, b))                                                       5.1446      3858.5  \n",
      "    Update u(c) where c changes: store{i}(replace_rows,:) = f_u(f_c(coh, k(replace_rows), b(replace_rows)));     1.4188      1064.1  \n",
      "\n",
      "Elapsed time is 1.421704 seconds.\n",
      "\n"
     ]
    }
   ],
   "source": [
    "% Update 1/8\n",
    "param_map = containers.Map('KeyType','char', 'ValueType','any');\n",
    "param_map('it_rown') = 300;\n",
    "param_map('it_coln') = 3000;\n",
    "param_map('it_rown_update') = round(param_map('it_rown')/8);\n",
    "ff_u_c_partrepeat(param_map)"
   ]
  },
  {
   "cell_type": "code",
   "execution_count": 24,
   "metadata": {},
   "outputs": [
    {
     "name": "stdout",
     "output_type": "stream",
     "text": [
      "    'it_coln'    'it_iter'    'it_rown'    'it_rown_update'    'it_z'\n",
      "\n",
      "    [3000]    [50]    [300]    [1]    [15]\n",
      "\n",
      "                                                                                                                speedmat    speedfull\n",
      "                                                                                                                ________    _________\n",
      "\n",
      "    Recompuate u(c) every time: mt_u = f_u(f_c(coh, k, b))                                                       5.1526      3864.4  \n",
      "    Update u(c) where c changes: store{i}(replace_rows,:) = f_u(f_c(coh, k(replace_rows), b(replace_rows)));    0.16142      121.06  \n",
      "\n",
      "Elapsed time is 0.165609 seconds.\n",
      "\n"
     ]
    }
   ],
   "source": [
    "% Update 1\n",
    "param_map = containers.Map('KeyType','char', 'ValueType','any');\n",
    "param_map('it_rown') = 300;\n",
    "param_map('it_coln') = 3000;\n",
    "param_map('it_rown_update') = 1;\n",
    "ff_u_c_partrepeat(param_map)"
   ]
  }
 ],
 "metadata": {
  "kernelspec": {
   "display_name": "Matlab",
   "language": "matlab",
   "name": "matlab"
  },
  "language_info": {
   "codemirror_mode": "octave",
   "file_extension": ".m",
   "help_links": [
    {
     "text": "MetaKernel Magics",
     "url": "https://metakernel.readthedocs.io/en/latest/source/README.html"
    }
   ],
   "mimetype": "text/x-octave",
   "name": "matlab",
   "version": "0.16.4"
  }
 },
 "nbformat": 4,
 "nbformat_minor": 2
}
