{
 "cells": [
  {
   "cell_type": "markdown",
   "metadata": {},
   "source": [
    "# Reusing existing C and U matrixes stored as Cell Arrays with Partial Replace\n",
    "\n",
    "Back to [**Fan**](http://fanwangecon.github.io)'s [**Matlab Examples Table of Content**](https://fanwangecon.github.io/M4Econ/)\n",
    "\n",
    "During Iteration Solution Procedure, sometimes only a subset of rows/columns need to be updated for some core matrix after each iteration. \n",
    "\n",
    "Potentially, there could be significant speed gains if one does not need to fully recompute based on some N by M matrix, but can compute based on some N-n by M-m matrix, and update values in the N by M matrix with new values. See this [**file**](https://fanwangecon.github.io/M4Econ/support/speed/partupdate/fs_u_c_repeat_test.html) for examples when we fully reuse matrixes.\n",
    "\n",
    "As stated [**here**](https://fanwangecon.github.io/M4Econ/support/speed/partupdate/fs_u_c_repeat_test.html), we will store existing calculations in cell arrays. "
   ]
  },
  {
   "cell_type": "markdown",
   "metadata": {},
   "source": [
    "## Problem\n",
    "\n",
    "The set of operations below is common in iterative solution methods for value/policy functions. \n",
    "\n",
    "1. Looping over iteration\n",
    "2. within iteration looping over shocks\n",
    "3. compute some matrix for consumption value\n",
    "4. compute some matrix for utility based on consumption. "
   ]
  },
  {
   "cell_type": "markdown",
   "metadata": {},
   "source": [
    "## Data and Parameter Set Up"
   ]
  },
  {
   "cell_type": "code",
   "execution_count": 1,
   "metadata": {},
   "outputs": [
    {
     "name": "stdout",
     "output_type": "stream",
     "text": [
      "\n"
     ]
    }
   ],
   "source": [
    "clear all;\n",
    "it_z = 15;\n",
    "it_rown = 300; % 4GB if 1000\n",
    "it_rown_update = floor(it_rown/7); % 1/10 of the rows are updated\n",
    "ar_it_rows_replace = sort(datasample(1:it_rown, it_rown_update, 'Replace', false));\n",
    "it_coln = round(((it_rown-1)*it_rown)/2 + it_rown);\n",
    "it_coln = 3000;\n",
    "it_iter = 50;\n",
    "it_coll = 0;\n",
    "% define Arrays\n",
    "ar_coh = rand([1,it_coln]);\n",
    "ar_kp = rand([1,it_rown]);\n",
    "ar_bp = rand([1,it_rown]);"
   ]
  },
  {
   "cell_type": "code",
   "execution_count": 2,
   "metadata": {},
   "outputs": [
    {
     "name": "stdout",
     "output_type": "stream",
     "text": [
      "\n"
     ]
    }
   ],
   "source": [
    "% ar_it_rows_replace"
   ]
  },
  {
   "cell_type": "markdown",
   "metadata": {},
   "source": [
    "## Define Some Function"
   ]
  },
  {
   "cell_type": "code",
   "execution_count": 3,
   "metadata": {},
   "outputs": [
    {
     "name": "stdout",
     "output_type": "stream",
     "text": [
      "\n",
      "f_c =\n",
      "\n",
      "  function_handle with value:\n",
      "\n",
      "    @(coh,kp,bp)coh-(kp+bp/(1+0.02))\n",
      "\n",
      "\n",
      "f_u =\n",
      "\n",
      "  function_handle with value:\n",
      "\n",
      "    @(c)log(c)\n",
      "\n",
      "\n"
     ]
    }
   ],
   "source": [
    "f_c = @(coh, kp, bp) coh - (kp + bp/(1+0.02))\n",
    "f_u = @(c) log(c)"
   ]
  },
  {
   "cell_type": "markdown",
   "metadata": {},
   "source": [
    "## Full and Partial Evaluation\n",
    "\n",
    "Matrix evaluation, all rows, or some rows. Evaluating only subset of the rows takes less time."
   ]
  },
  {
   "cell_type": "code",
   "execution_count": 4,
   "metadata": {},
   "outputs": [
    {
     "name": "stdout",
     "output_type": "stream",
     "text": [
      "\n",
      "ans =\n",
      "\n",
      "         300        3000\n",
      "\n",
      "\n",
      "ans =\n",
      "\n",
      "          42        3000\n",
      "\n",
      "\n"
     ]
    }
   ],
   "source": [
    "mt_u = f_u(f_c(ar_coh, ar_kp', ar_bp'));\n",
    "mt_u_partial = f_u(f_c(ar_coh, ar_kp(ar_it_rows_replace)', ar_bp(ar_it_rows_replace)'));\n",
    "size(mt_u)\n",
    "size(mt_u_partial)"
   ]
  },
  {
   "cell_type": "code",
   "execution_count": 5,
   "metadata": {},
   "outputs": [
    {
     "name": "stdout",
     "output_type": "stream",
     "text": [
      "\n",
      "fl_exe_time =\n",
      "\n",
      "    0.0079\n",
      "\n",
      "\n",
      "fl_exe_time =\n",
      "\n",
      "    0.0014\n",
      "\n",
      "\n"
     ]
    }
   ],
   "source": [
    "mt_u = f_u(f_c(ar_coh, ar_kp', ar_bp'));\n",
    "mt_u_partial = f_u(f_c(ar_coh, ar_kp(ar_it_rows_replace)', ar_bp(ar_it_rows_replace)'));\n",
    "\n",
    "f_full_mt_eval = @() f_u(f_c(ar_coh, ar_kp', ar_bp'));\n",
    "f_part_mt_eval = @() f_u(f_c(ar_coh, ar_kp(ar_it_rows_replace)', ar_bp(ar_it_rows_replace)'));\n",
    "\n",
    "fl_exe_time = timeit(f_full_mt_eval)\n",
    "it_coll = it_coll + 1;\n",
    "ar_fl_exe_times(it_coll) = fl_exe_time;\n",
    "ar_fl_exe_desc{it_coll} = 'f_u(f_c(ar_coh, ar_kp, ar_bp))';\n",
    "\n",
    "fl_exe_time = timeit(f_part_mt_eval)\n",
    "it_coll = it_coll + 1;\n",
    "ar_fl_exe_times(it_coll) = fl_exe_time;\n",
    "ar_fl_exe_desc{it_coll} = 'f_u(f_c(ar_coh, ar_kp(ar_it_rows_replace), ar_bp(ar_it_rows_replace)))';\n"
   ]
  },
  {
   "cell_type": "markdown",
   "metadata": {},
   "source": [
    "## Method 1--New Evaluation within Loop Every time\n",
    "\n",
    "Compute consumption matrix every time. "
   ]
  },
  {
   "cell_type": "code",
   "execution_count": 6,
   "metadata": {},
   "outputs": [
    {
     "name": "stdout",
     "output_type": "stream",
     "text": [
      "Elapsed time is 7.087624 seconds.\n",
      "\n",
      "fl_exe_time =\n",
      "\n",
      "    6.9068\n",
      "\n",
      "\n"
     ]
    }
   ],
   "source": [
    "ts_c_store = zeros([it_rown, it_coln, it_z]);\n",
    "tic;\n",
    "for it_iter_n=1:1:it_iter    \n",
    "    for it_z_m=1:1:it_z\n",
    "        mt_u = f_u(f_c(ar_coh, ar_kp', ar_bp'));\n",
    "    end\n",
    "end\n",
    "toc;\n",
    "\n",
    "% timing the function above store in file in the same folder\n",
    "f_ff_subset_update_func = @() ff_u_c_partrepeat_func(1, ar_it_rows_replace, ar_coh, ar_kp', ar_bp', f_u, f_c, it_iter, it_rown, it_coln, it_z);\n",
    "fl_exe_time = timeit(f_ff_subset_update_func)\n",
    "it_coll = it_coll + 1;\n",
    "ar_fl_exe_times(it_coll) = fl_exe_time;\n",
    "ar_fl_exe_desc{it_coll} = 'ff_u_c_partrepeat_func(1): mt_u = f_u(f_c())';"
   ]
  },
  {
   "cell_type": "markdown",
   "metadata": {},
   "source": [
    "## Method 2-Compute Consumption only Once\n",
    "\n",
    "Is this faster? Actually not. The consumption evaluation step was not time consuming. So there seems to be no gain from saving the consumption results. \n",
    "\n",
    "In fact, this is substantiallly slowly, perhaps it is time consuming to retrieve stored matrix.\n",
    "\n",
    "Note that this set up here works with 1 state variable, where our consumption grid is actually constant across periods. It does not work with 2 choice model with consumption grid is changing for the cash-on-hand single state version of 2 states and 2 choices model. "
   ]
  },
  {
   "cell_type": "code",
   "execution_count": 7,
   "metadata": {},
   "outputs": [
    {
     "name": "stdout",
     "output_type": "stream",
     "text": [
      "Elapsed time is 8.496887 seconds.\n",
      "\n",
      "fl_exe_time =\n",
      "\n",
      "    8.5708\n",
      "\n",
      "\n"
     ]
    }
   ],
   "source": [
    "ts_c_store = zeros([it_rown, it_coln, it_z]);\n",
    "tic;\n",
    "for it_iter_n=1:1:it_iter    \n",
    "    for it_z_m=1:1:it_z\n",
    "        if (it_iter_n == 1)\n",
    "            mt_c = f_c(ar_coh, ar_kp', ar_bp');\n",
    "            ts_c_store(:,:,it_z_m) = mt_c;\n",
    "            mt_u = f_u(mt_c);\n",
    "        else\n",
    "            ts_c_store(ar_it_rows_replace,:,it_z_m) = f_c(ar_coh, ar_kp(ar_it_rows_replace)', ar_bp(ar_it_rows_replace)');            \n",
    "            mt_u = f_u(ts_c_store(:,:,it_z_m));\n",
    "        end\n",
    "    end\n",
    "end\n",
    "toc;\n",
    "\n",
    "% timing the function above store in file in the same folder\n",
    "f_ff_subset_update_func = @() ff_u_c_partrepeat_func(2, ar_it_rows_replace, ar_coh, ar_kp', ar_bp', f_u, f_c, it_iter, it_rown, it_coln, it_z);\n",
    "fl_exe_time = timeit(f_ff_subset_update_func)\n",
    "it_coll = it_coll + 1;\n",
    "ar_fl_exe_times(it_coll) = fl_exe_time;\n",
    "ar_fl_exe_desc{it_coll} = 'ff_u_c_partrepeat_func(2): f_u(ts_c_store(:,:,it_z_m))';"
   ]
  },
  {
   "cell_type": "markdown",
   "metadata": {},
   "source": [
    "## Method 3-Compute Utility only Once\n",
    "\n",
    "Let's not update utility, compute that only once. Now we have significant time saving. There should be slightly higher memory burden, although not substantial. \n",
    "\n",
    "There are no speed gains at all, this is because in the following command structure, every time when the tensor ts_u_store is sliced to retrieve mt_u, a new mt_u array is copyied. \n",
    "\n",
    "The time it takes to generate the new mt_u matrix is as much as it takes to calculate f_u(f_c())). Just because we stored the data in ts_u_store, does not mean there is no computational burden when we slice ts_u_store. "
   ]
  },
  {
   "cell_type": "code",
   "execution_count": 8,
   "metadata": {},
   "outputs": [
    {
     "name": "stdout",
     "output_type": "stream",
     "text": [
      "Elapsed time is 7.913867 seconds.\n",
      "\n",
      "fl_exe_time =\n",
      "\n",
      "    7.7258\n",
      "\n",
      "\n"
     ]
    }
   ],
   "source": [
    "ts_u_store = zeros([it_rown, it_coln, it_z]);\n",
    "tic;\n",
    "for it_iter_n=1:1:it_iter    \n",
    "    for it_z_m=1:1:it_z\n",
    "        if (it_iter_n == 1)\n",
    "            mt_c = f_c(ar_coh, ar_kp', ar_bp');\n",
    "            mt_u = f_u(mt_c);\n",
    "            ts_u_store(:,:,it_z_m) = mt_u;\n",
    "        else\n",
    "            ts_u_store(ar_it_rows_replace,:,it_z_m) = f_u(f_c(ar_coh, ar_kp(ar_it_rows_replace)', ar_bp(ar_it_rows_replace)'));\n",
    "            mt_u = ts_u_store(:,:,it_z_m);\n",
    "        end\n",
    "    end\n",
    "end\n",
    "toc;\n",
    "\n",
    "% timing the function above store in file in the same folder\n",
    "f_ff_subset_update_func = @() ff_u_c_partrepeat_func(3, ar_it_rows_replace, ar_coh, ar_kp', ar_bp', f_u, f_c, it_iter, it_rown, it_coln, it_z);\n",
    "fl_exe_time = timeit(f_ff_subset_update_func)\n",
    "it_coll = it_coll + 1;\n",
    "ar_fl_exe_times(it_coll) = fl_exe_time;\n",
    "ar_fl_exe_desc{it_coll} = 'ff_u_c_partrepeat_func(3): mt_u = ts_u_store(:,:,it_z_m);';"
   ]
  },
  {
   "cell_type": "markdown",
   "metadata": {},
   "source": [
    "## Method 4-Each Shock Own Matrix\n",
    "\n",
    "Rather than using a tensor, store values one by one, as a demonstration case, we separately name three mt_u matrixes. This method is dramatically faster. \n",
    "\n",
    "But we do not want to have to name each of the matrix, that would involve hard-coding etc, not good. "
   ]
  },
  {
   "cell_type": "code",
   "execution_count": 9,
   "metadata": {},
   "outputs": [
    {
     "name": "stdout",
     "output_type": "stream",
     "text": [
      "Elapsed time is 1.299855 seconds.\n",
      "\n",
      "fl_exe_time =\n",
      "\n",
      "    1.2896\n",
      "\n",
      "\n"
     ]
    }
   ],
   "source": [
    "tic;\n",
    "for it_iter_n=1:1:it_iter\n",
    "    for it_z_m=1:1:it_z\n",
    "        if (it_iter_n == 1)\n",
    "            mt_c = f_c(ar_coh, ar_kp', ar_bp');\n",
    "            mt_u = f_u(mt_c);\n",
    "            if (rem(it_z_m,3) == 0)\n",
    "                mt_u_1 = mt_u;\n",
    "            end\n",
    "            if (rem(it_z_m,3) == 1)\n",
    "                mt_u_2 = mt_u;\n",
    "            end\n",
    "            if (rem(it_z_m,3) == 2)\n",
    "                mt_u_3 = mt_u;\n",
    "            end\n",
    "        else\n",
    "            mt_updates = f_u(f_c(ar_coh, ar_kp(ar_it_rows_replace)', ar_bp(ar_it_rows_replace)'));\n",
    "            if (rem(it_z_m,3) == 0)\n",
    "                mt_u_1(ar_it_rows_replace,:) = mt_updates;\n",
    "                mt_u = mt_u_1;\n",
    "            end\n",
    "            if (rem(it_z_m,3) == 1)\n",
    "                mt_u_2(ar_it_rows_replace,:) = mt_updates;\n",
    "                mt_u = mt_u_2;\n",
    "            end\n",
    "            if (rem(it_z_m,3) == 2)\n",
    "                mt_u_3(ar_it_rows_replace,:) = mt_updates;\n",
    "                mt_u = mt_u_3;\n",
    "            end\n",
    "        end\n",
    "    end\n",
    "end\n",
    "toc;\n",
    "\n",
    "% timing the function above store in file in the same folder\n",
    "f_ff_subset_update_func = @() ff_u_c_partrepeat_func(4, ar_it_rows_replace, ar_coh, ar_kp', ar_bp', f_u, f_c, it_iter, it_rown, it_coln, it_z);\n",
    "fl_exe_time = timeit(f_ff_subset_update_func)\n",
    "it_coll = it_coll + 1;\n",
    "ar_fl_exe_times(it_coll) = fl_exe_time;\n",
    "ar_fl_exe_desc{it_coll} = 'ff_u_c_partrepeat_func(4): mt_u_1, mt_u_2, mt_u_3;';"
   ]
  },
  {
   "cell_type": "markdown",
   "metadata": {},
   "source": [
    "## Method 5-Cell Array for Storage\n",
    "\n",
    "This was fast when no matrix updating was required, now this is a little slower, but still pretty good. \n",
    "\n",
    "The less changes we have to make during each iteration, and also the more iterations there are, the better this method becomes. \n",
    "\n",
    "Note the key replacement command is : cl_u_store{it_z_m}(ar_it_rows_replace,:) "
   ]
  },
  {
   "cell_type": "code",
   "execution_count": 10,
   "metadata": {},
   "outputs": [
    {
     "name": "stdout",
     "output_type": "stream",
     "text": [
      "Elapsed time is 1.417557 seconds.\n",
      "\n",
      "fl_exe_time =\n",
      "\n",
      "    1.4229\n",
      "\n",
      "\n"
     ]
    }
   ],
   "source": [
    "tic;\n",
    "cl_u_store = cell([it_z, 1]);\n",
    "tic;\n",
    "for it_iter_n=1:1:it_iter    \n",
    "    for it_z_m=1:1:it_z\n",
    "        if (it_iter_n == 1)\n",
    "            mt_c = f_c(ar_coh, ar_kp', ar_bp');\n",
    "            mt_u = f_u(mt_c);\n",
    "            cl_u_store{it_z_m} = mt_u;\n",
    "        else        \n",
    "            cl_u_store{it_z_m}(ar_it_rows_replace,:) = f_u(f_c(ar_coh, ar_kp(ar_it_rows_replace)', ar_bp(ar_it_rows_replace)'));\n",
    "            mt_u = cl_u_store{it_z_m};\n",
    "        end\n",
    "    end\n",
    "end\n",
    "toc;\n",
    "\n",
    "% timing the function above store in file in the same folder\n",
    "f_ff_subset_update_func = @() ff_u_c_partrepeat_func(5, ar_it_rows_replace, ar_coh, ar_kp', ar_bp', f_u, f_c, it_iter, it_rown, it_coln, it_z);\n",
    "fl_exe_time = timeit(f_ff_subset_update_func)\n",
    "it_coll = it_coll + 1;\n",
    "ar_fl_exe_times(it_coll) = fl_exe_time;\n",
    "ar_fl_exe_desc{it_coll} = 'ff_u_c_partrepeat_func(5): mt_u = cl_u_store{it_z_m}';"
   ]
  },
  {
   "cell_type": "markdown",
   "metadata": {},
   "source": [
    "## Timing Results"
   ]
  },
  {
   "cell_type": "code",
   "execution_count": 11,
   "metadata": {},
   "outputs": [
    {
     "name": "stdout",
     "output_type": "stream",
     "text": [
      "                                                                              speedmat     speedfull\n",
      "                                                                              _________    _________\n",
      "\n",
      "    f_u(f_c(ar_coh, ar_kp, ar_bp))                                            0.0079088     5.9316  \n",
      "    f_u(f_c(ar_coh, ar_kp(ar_it_rows_replace), ar_bp(ar_it_rows_replace)))    0.0013723     1.0292  \n",
      "    ff_u_c_partrepeat_func(1): mt_u = f_u(f_c())                                 6.9068     5180.1  \n",
      "    ff_u_c_partrepeat_func(2): f_u(ts_c_store(:,:,it_z_m))                       8.5708     6428.1  \n",
      "    ff_u_c_partrepeat_func(3): mt_u = ts_u_store(:,:,it_z_m);                    7.7258     5794.3  \n",
      "    ff_u_c_partrepeat_func(4): mt_u_1, mt_u_2, mt_u_3;                           1.2896     967.19  \n",
      "    ff_u_c_partrepeat_func(5): mt_u = cl_u_store{it_z_m}                         1.4229     1067.2  \n",
      "\n",
      "\n"
     ]
    }
   ],
   "source": [
    "tb_exe_times = array2table([ar_fl_exe_times', ar_fl_exe_times'*it_z*it_iter]);\n",
    "tb_exe_times.Properties.RowNames = ar_fl_exe_desc;\n",
    "tb_exe_times.Properties.VariableNames = {'speedmat', 'speedfull'};\n",
    "disp(tb_exe_times);"
   ]
  }
 ],
 "metadata": {
  "kernelspec": {
   "display_name": "Matlab",
   "language": "matlab",
   "name": "matlab"
  },
  "language_info": {
   "codemirror_mode": "octave",
   "file_extension": ".m",
   "help_links": [
    {
     "text": "MetaKernel Magics",
     "url": "https://metakernel.readthedocs.io/en/latest/source/README.html"
    }
   ],
   "mimetype": "text/x-octave",
   "name": "matlab",
   "version": "0.16.4"
  }
 },
 "nbformat": 4,
 "nbformat_minor": 2
}
