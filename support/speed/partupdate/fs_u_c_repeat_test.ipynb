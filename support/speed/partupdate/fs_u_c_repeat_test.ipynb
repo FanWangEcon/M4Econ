{
 "cells": [
  {
   "cell_type": "markdown",
   "metadata": {},
   "source": [
    "# Reusing existing C and U matrixes stored as Cell Arrays\n",
    "\n",
    "Back to [**Fan**](http://fanwangecon.github.io)'s [**Matlab Examples Table of Content**](https://fanwangecon.github.io/M4Econ/)\n",
    "\n",
    "During Iteration Solution Procedure, sometimes we reuse matrixes.\n",
    "\n",
    "Potentially, there could be significant speed gains if one does not need to fully recompute based on some N by M matrix, but can reuse it. For example, if we have a choice and state grid that does not change, current utility does not change across policy and value function iterations (only EV() changes).\n",
    "\n",
    "Potentially, this involves increasing the memory costs of the program. Perhaps ones needs to store N by M by J matrix.\n",
    "\n",
    "One might want to store results from existing calculations, and retrieve stored results during next iteration if most values from previous iteration are the same. \n",
    "\n",
    "It turns out one has to be very careful in this process, storing data in large 2 dimensional or 3 dimensional matrixes, and slicing for retrieval actually does not bring about speed gains for the utility evaluation problem. The time it takes to slice and copy subset of tensors is as long as the time it takes to evaluate the matrix. \n",
    "\n",
    "We need to save and retrieve without copying during retrieval. This is achieved by using cell array.\n",
    "\n",
    "Using proper cell arrays, we achieve dramatic speed gains. "
   ]
  },
  {
   "cell_type": "markdown",
   "metadata": {},
   "source": [
    "## Problem\n",
    "\n",
    "The set of operations below is common in iterative solution methods for value/policy functions. \n",
    "\n",
    "1. Looping over iteration\n",
    "2. within iteration looping over shocks\n",
    "3. compute some matrix for consumption value\n",
    "4. compute some matrix for utility based on consumption. "
   ]
  },
  {
   "cell_type": "markdown",
   "metadata": {},
   "source": [
    "## Data and Parameter Set Up"
   ]
  },
  {
   "cell_type": "code",
   "execution_count": 1,
   "metadata": {},
   "outputs": [
    {
     "name": "stdout",
     "output_type": "stream",
     "text": [
      "\n"
     ]
    }
   ],
   "source": [
    "clear all;\n",
    "it_z = 3;\n",
    "it_rown = 300; % 4GB if 1000\n",
    "it_coln = round(((it_rown-1)*it_rown)/2 + it_rown);\n",
    "it_coln = 3000;\n",
    "it_iter = 50;\n",
    "it_coll = 0;\n",
    "% define Arrays\n",
    "ar_coh = rand([1,it_coln]);\n",
    "ar_kp = rand([1,it_rown]);\n",
    "ar_bp = rand([1,it_rown]);"
   ]
  },
  {
   "cell_type": "markdown",
   "metadata": {},
   "source": [
    "## Define Some Function"
   ]
  },
  {
   "cell_type": "code",
   "execution_count": 2,
   "metadata": {},
   "outputs": [
    {
     "name": "stdout",
     "output_type": "stream",
     "text": [
      "\n",
      "f_c =\n",
      "\n",
      "  function_handle with value:\n",
      "\n",
      "    @(coh,kp,bp)coh-(kp+bp/(1+0.02))\n",
      "\n",
      "\n",
      "f_u =\n",
      "\n",
      "  function_handle with value:\n",
      "\n",
      "    @(c)log(c)\n",
      "\n",
      "\n"
     ]
    }
   ],
   "source": [
    "f_c = @(coh, kp, bp) coh - (kp + bp/(1+0.02))\n",
    "f_u = @(c) log(c)"
   ]
  },
  {
   "cell_type": "markdown",
   "metadata": {},
   "source": [
    "## Tensor Speed and Matrix Speed\n",
    "\n",
    "Time it takes to generate tensor vs 2 dimensional matrix, and matrix subset extraction speed."
   ]
  },
  {
   "cell_type": "code",
   "execution_count": 3,
   "metadata": {},
   "outputs": [
    {
     "name": "stdout",
     "output_type": "stream",
     "text": [
      "\n",
      "fl_exe_time =\n",
      "\n",
      "    0.0267\n",
      "\n",
      "\n",
      "fl_exe_time =\n",
      "\n",
      "    0.0372\n",
      "\n",
      "\n"
     ]
    }
   ],
   "source": [
    "f_ts_u_store = @() rand([it_rown, it_coln, it_z]);\n",
    "f_mt_u_store = @() rand([it_rown, it_coln*it_z]);\n",
    "\n",
    "fl_exe_time = timeit(f_ts_u_store)\n",
    "it_coll = it_coll + 1;\n",
    "ar_fl_exe_times(it_coll) = fl_exe_time;\n",
    "ar_fl_exe_desc{it_coll} = 'rand([it_rown, it_coln, it_z])';\n",
    "\n",
    "fl_exe_time = timeit(f_mt_u_store)\n",
    "it_coll = it_coll + 1;\n",
    "ar_fl_exe_times(it_coll) = fl_exe_time;\n",
    "ar_fl_exe_desc{it_coll} = 'rand([it_rown, it_coln*it_z])';\n",
    "\n",
    "ts_u_store = f_ts_u_store();\n",
    "mt_u_store = f_mt_u_store();"
   ]
  },
  {
   "cell_type": "markdown",
   "metadata": {},
   "source": [
    "## Speed to Get Element of Matrix vs Evaluate and generate the same sized data. \n",
    "\n",
    "This is the critical timing question. \n",
    "\n",
    "Is it faster to store and retrieve? Or is it faster to generate new? Purely comparing data retrieving and data generating times.\n"
   ]
  },
  {
   "cell_type": "code",
   "execution_count": 4,
   "metadata": {},
   "outputs": [
    {
     "name": "stdout",
     "output_type": "stream",
     "text": [
      "\n",
      "fl_exe_time =\n",
      "\n",
      "    0.0045\n",
      "\n",
      "\n",
      "fl_exe_time =\n",
      "\n",
      "    0.0045\n",
      "\n",
      "\n"
     ]
    }
   ],
   "source": [
    "f_ts_get = @() ts_u_store(:, :, 1);\n",
    "f_mt_long_get = @() mt_u_store(:, (it_coln*0+1):(it_coln*1+1));\n",
    "\n",
    "fl_exe_time = timeit(f_ts_get)\n",
    "it_coll = it_coll + 1;\n",
    "ar_fl_exe_times(it_coll) = fl_exe_time;\n",
    "ar_fl_exe_desc{it_coll} = 'ts_u_store(:, :, 1)';\n",
    "\n",
    "fl_exe_time = timeit(f_mt_long_get)\n",
    "it_coll = it_coll + 1;\n",
    "ar_fl_exe_times(it_coll) = fl_exe_time;\n",
    "ar_fl_exe_desc{it_coll} = 'mt_u_store(:, (it_coln*0+1):(it_coln*1+1))';"
   ]
  },
  {
   "cell_type": "code",
   "execution_count": 5,
   "metadata": {},
   "outputs": [
    {
     "name": "stdout",
     "output_type": "stream",
     "text": [
      "\n",
      "fl_exe_time =\n",
      "\n",
      "    0.0087\n",
      "\n",
      "\n"
     ]
    }
   ],
   "source": [
    "% time to compute utility\n",
    "f_mt_c = @() f_u(f_c(ar_coh, ar_kp', ar_bp'));\n",
    "\n",
    "fl_exe_time = timeit(f_mt_c)\n",
    "it_coll = it_coll + 1;\n",
    "ar_fl_exe_times(it_coll) = fl_exe_time;\n",
    "ar_fl_exe_desc{it_coll} = 'f_u(f_c(ar_coh, ar_kp, ar_bp))';"
   ]
  },
  {
   "cell_type": "markdown",
   "metadata": {},
   "source": [
    "## Method 1--New Evaluation within Loop Every time\n",
    "\n",
    "Compute consumption matrix every time. "
   ]
  },
  {
   "cell_type": "code",
   "execution_count": 6,
   "metadata": {},
   "outputs": [
    {
     "name": "stdout",
     "output_type": "stream",
     "text": [
      "Elapsed time is 1.390194 seconds.\n",
      "\n",
      "fl_exe_time =\n",
      "\n",
      "    1.5423\n",
      "\n",
      "\n"
     ]
    }
   ],
   "source": [
    "ts_c_store = zeros([it_rown, it_coln, it_z]);\n",
    "tic;\n",
    "for it_iter_n=1:1:it_iter    \n",
    "    for it_z_m=1:1:it_z\n",
    "        mt_u = f_u(f_c(ar_coh, ar_kp', ar_bp'));\n",
    "    end\n",
    "end\n",
    "toc;\n",
    "\n",
    "% timing the function above store in file in the same folder\n",
    "f_ff_subset_update_func = @() ff_u_c_repeat_func(1, ar_coh, ar_kp', ar_bp', f_u, f_c, it_iter, it_rown, it_coln, it_z);\n",
    "fl_exe_time = timeit(f_ff_subset_update_func)\n",
    "it_coll = it_coll + 1;\n",
    "ar_fl_exe_times(it_coll) = fl_exe_time;\n",
    "ar_fl_exe_desc{it_coll} = 'ff_u_c_repeat_func(1): mt_u = f_u(f_c())';"
   ]
  },
  {
   "cell_type": "markdown",
   "metadata": {},
   "source": [
    "## Method 2-Compute Consumption only Once\n",
    "\n",
    "Is this faster? Actually not. The consumption evaluation step was not time consuming. So there seems to be no gain from saving the consumption results. \n",
    "\n",
    "In fact, this is substantiallly slowly, perhaps it is time consuming to retrieve stored matrix.\n",
    "\n",
    "Note that this set up here works with 1 state variable, where our consumption grid is actually constant across periods. It does not work with 2 choice model with consumption grid is changing for the cash-on-hand single state version of 2 states and 2 choices model. "
   ]
  },
  {
   "cell_type": "code",
   "execution_count": 7,
   "metadata": {},
   "outputs": [
    {
     "name": "stdout",
     "output_type": "stream",
     "text": [
      "Elapsed time is 1.950945 seconds.\n",
      "\n",
      "fl_exe_time =\n",
      "\n",
      "    1.6480\n",
      "\n",
      "\n"
     ]
    }
   ],
   "source": [
    "ts_c_store = zeros([it_rown, it_coln, it_z]);\n",
    "tic;\n",
    "for it_iter_n=1:1:it_iter    \n",
    "    for it_z_m=1:1:it_z\n",
    "        if (it_iter_n == 1)\n",
    "            mt_c = f_c(ar_coh, ar_kp', ar_bp');\n",
    "            ts_c_store(:,:,it_z_m) = mt_c;\n",
    "            mt_u = f_u(mt_c);            \n",
    "        else\n",
    "            mt_u = f_u(ts_c_store(:,:,it_z_m));\n",
    "        end\n",
    "    end\n",
    "end\n",
    "toc;\n",
    "\n",
    "% timing the function above store in file in the same folder\n",
    "f_ff_subset_update_func = @() ff_u_c_repeat_func(2, ar_coh, ar_kp', ar_bp', f_u, f_c, it_iter, it_rown, it_coln, it_z);\n",
    "fl_exe_time = timeit(f_ff_subset_update_func)\n",
    "it_coll = it_coll + 1;\n",
    "ar_fl_exe_times(it_coll) = fl_exe_time;\n",
    "ar_fl_exe_desc{it_coll} = 'ff_u_c_repeat_func(2): f_u(ts_c_store(:,:,it_z_m))';"
   ]
  },
  {
   "cell_type": "markdown",
   "metadata": {},
   "source": [
    "## Method 3-Compute Utility only Once\n",
    "\n",
    "Let's not update utility, compute that only once. Now we have significant time saving. There should be slightly higher memory burden, although not substantial. \n",
    "\n",
    "There are no speed gains at all, this is because in the following command structure, every time when the tensor ts_u_store is sliced to retrieve mt_u, a new mt_u array is copyied. \n",
    "\n",
    "The time it takes to generate the new mt_u matrix is as much as it takes to calculate f_u(f_c())). Just because we stored the data in ts_u_store, does not mean there is no computational burden when we slice ts_u_store. "
   ]
  },
  {
   "cell_type": "code",
   "execution_count": 8,
   "metadata": {},
   "outputs": [
    {
     "name": "stdout",
     "output_type": "stream",
     "text": [
      "Elapsed time is 1.360896 seconds.\n",
      "\n",
      "fl_exe_time =\n",
      "\n",
      "    1.5409\n",
      "\n",
      "\n"
     ]
    }
   ],
   "source": [
    "ts_u_store = zeros([it_rown, it_coln, it_z]);\n",
    "tic;\n",
    "for it_iter_n=1:1:it_iter    \n",
    "    for it_z_m=1:1:it_z\n",
    "        if (it_iter_n == 1)\n",
    "            mt_c = f_c(ar_coh, ar_kp', ar_bp');\n",
    "            mt_u = f_u(mt_c);\n",
    "            ts_u_store(:,:,it_z_m) = mt_u;\n",
    "        else\n",
    "            mt_u = ts_u_store(:,:,it_z_m);\n",
    "        end\n",
    "    end\n",
    "end\n",
    "toc;\n",
    "\n",
    "% timing the function above store in file in the same folder\n",
    "f_ff_subset_update_func = @() ff_u_c_repeat_func(3, ar_coh, ar_kp', ar_bp', f_u, f_c, it_iter, it_rown, it_coln, it_z);\n",
    "fl_exe_time = timeit(f_ff_subset_update_func)\n",
    "it_coll = it_coll + 1;\n",
    "ar_fl_exe_times(it_coll) = fl_exe_time;\n",
    "ar_fl_exe_desc{it_coll} = 'ff_u_c_repeat_func(3): mt_u = ts_u_store(:,:,it_z_m);';"
   ]
  },
  {
   "cell_type": "markdown",
   "metadata": {},
   "source": [
    "## Method 4-Each Shock Own Matrix\n",
    "\n",
    "Rather than using a tensor, store values one by one, as a demonstration case, we separately name three mt_u matrixes. This method is dramatically faster. \n",
    "\n",
    "But we do not want to have to name each of the matrix, that would involve hard-coding etc, not good. "
   ]
  },
  {
   "cell_type": "code",
   "execution_count": 9,
   "metadata": {},
   "outputs": [
    {
     "name": "stdout",
     "output_type": "stream",
     "text": [
      "Elapsed time is 0.034070 seconds.\n",
      "\n",
      "fl_exe_time =\n",
      "\n",
      "    0.0299\n",
      "\n",
      "\n"
     ]
    }
   ],
   "source": [
    "tic;\n",
    "for it_iter_n=1:1:it_iter\n",
    "    for it_z_m=1:1:it_z\n",
    "        if (it_iter_n == 1)\n",
    "            mt_c = f_c(ar_coh, ar_kp', ar_bp');\n",
    "            mt_u = f_u(mt_c);\n",
    "            if (rem(it_z_m,3) == 0)\n",
    "                mt_u_1 = mt_u;\n",
    "            end\n",
    "            if (rem(it_z_m,3) == 1)\n",
    "                mt_u_2 = mt_u;\n",
    "            end\n",
    "            if (rem(it_z_m,3) == 2)\n",
    "                mt_u_3 = mt_u;\n",
    "            end\n",
    "        else\n",
    "            if (rem(it_z_m,3) == 0)\n",
    "                mt_u = mt_u_1;\n",
    "            end\n",
    "            if (rem(it_z_m,3) == 1)\n",
    "                mt_u = mt_u_2;\n",
    "            end\n",
    "            if (rem(it_z_m,3) == 2)\n",
    "                mt_u = mt_u_3;\n",
    "            end\n",
    "        end\n",
    "    end\n",
    "end\n",
    "toc;\n",
    "\n",
    "% timing the function above store in file in the same folder\n",
    "f_ff_subset_update_func = @() ff_u_c_repeat_func(4, ar_coh, ar_kp', ar_bp', f_u, f_c, it_iter, it_rown, it_coln, it_z);\n",
    "fl_exe_time = timeit(f_ff_subset_update_func)\n",
    "it_coll = it_coll + 1;\n",
    "ar_fl_exe_times(it_coll) = fl_exe_time;\n",
    "ar_fl_exe_desc{it_coll} = 'ff_u_c_repeat_func(4): mt_u_1, mt_u_2, mt_u_3;';"
   ]
  },
  {
   "cell_type": "markdown",
   "metadata": {},
   "source": [
    "## Method 5-Cell Array for Storage\n",
    "\n",
    "It turns out the optimal method is to store information in cell array. When we call element of cell array, that does not require data copying. \n",
    "\n",
    "Method 4 and 5 speed costs are almost identical, meaning there is no overhead from the cell array. "
   ]
  },
  {
   "cell_type": "code",
   "execution_count": 10,
   "metadata": {},
   "outputs": [
    {
     "name": "stdout",
     "output_type": "stream",
     "text": [
      "Elapsed time is 0.027707 seconds.\n",
      "\n",
      "fl_exe_time =\n",
      "\n",
      "    0.0296\n",
      "\n",
      "\n"
     ]
    }
   ],
   "source": [
    "tic;\n",
    "cl_u_store = cell([it_z, 1]);\n",
    "tic;\n",
    "for it_iter_n=1:1:it_iter    \n",
    "    for it_z_m=1:1:it_z\n",
    "        if (it_iter_n == 1)\n",
    "            mt_c = f_c(ar_coh, ar_kp', ar_bp');\n",
    "            mt_u = f_u(mt_c);\n",
    "            cl_u_store{it_z_m} = mt_u;\n",
    "        else\n",
    "            mt_u = cl_u_store{it_z_m};\n",
    "        end\n",
    "    end\n",
    "end\n",
    "toc;\n",
    "\n",
    "% timing the function above store in file in the same folder\n",
    "f_ff_subset_update_func = @() ff_u_c_repeat_func(5, ar_coh, ar_kp', ar_bp', f_u, f_c, it_iter, it_rown, it_coln, it_z);\n",
    "fl_exe_time = timeit(f_ff_subset_update_func)\n",
    "it_coll = it_coll + 1;\n",
    "ar_fl_exe_times(it_coll) = fl_exe_time;\n",
    "ar_fl_exe_desc{it_coll} = 'ff_u_c_repeat_func(5): mt_u = cl_u_store{it_z_m}';"
   ]
  },
  {
   "cell_type": "markdown",
   "metadata": {},
   "source": [
    "## Timing Results"
   ]
  },
  {
   "cell_type": "code",
   "execution_count": 11,
   "metadata": {},
   "outputs": [
    {
     "name": "stdout",
     "output_type": "stream",
     "text": [
      "                                                             speedmat     speedfull\n",
      "                                                             _________    _________\n",
      "\n",
      "    rand([it_rown, it_coln, it_z])                            0.026652      3.9979 \n",
      "    rand([it_rown, it_coln*it_z])                             0.037152      5.5728 \n",
      "    ts_u_store(:, :, 1)                                      0.0045436     0.68154 \n",
      "    mt_u_store(:, (it_coln*0+1):(it_coln*1+1))               0.0044851     0.67276 \n",
      "    f_u(f_c(ar_coh, ar_kp, ar_bp))                           0.0086745      1.3012 \n",
      "    ff_u_c_repeat_func(1): mt_u = f_u(f_c())                    1.5423      231.35 \n",
      "    ff_u_c_repeat_func(2): f_u(ts_c_store(:,:,it_z_m))           1.648       247.2 \n",
      "    ff_u_c_repeat_func(3): mt_u = ts_u_store(:,:,it_z_m);       1.5409      231.13 \n",
      "    ff_u_c_repeat_func(4): mt_u_1, mt_u_2, mt_u_3;            0.029882      4.4823 \n",
      "    ff_u_c_repeat_func(5): mt_u = cl_u_store{it_z_m}          0.029611      4.4416 \n",
      "\n",
      "\n"
     ]
    }
   ],
   "source": [
    "tb_exe_times = array2table([ar_fl_exe_times', ar_fl_exe_times'*it_z*it_iter]);\n",
    "tb_exe_times.Properties.RowNames = ar_fl_exe_desc;\n",
    "tb_exe_times.Properties.VariableNames = {'speedmat', 'speedfull'};\n",
    "disp(tb_exe_times);"
   ]
  }
 ],
 "metadata": {
  "kernelspec": {
   "display_name": "Matlab",
   "language": "matlab",
   "name": "matlab"
  },
  "language_info": {
   "codemirror_mode": "octave",
   "file_extension": ".m",
   "help_links": [
    {
     "text": "MetaKernel Magics",
     "url": "https://metakernel.readthedocs.io/en/latest/source/README.html"
    }
   ],
   "mimetype": "text/x-octave",
   "name": "matlab",
   "version": "0.16.4"
  }
 },
 "nbformat": 4,
 "nbformat_minor": 2
}
