{
 "cells": [
  {
   "cell_type": "markdown",
   "metadata": {},
   "source": [
    "# Various Ways of Generating Tables\n",
    "\n",
    "Generating tables from various data structures."
   ]
  },
  {
   "cell_type": "markdown",
   "metadata": {},
   "source": [
    "## Tables from Arrays\n",
    "\n",
    "3 by 3 array, add row names or variable names. "
   ]
  },
  {
   "cell_type": "code",
   "execution_count": 2,
   "metadata": {},
   "outputs": [
    {
     "name": "stdout",
     "output_type": "stream",
     "text": [
      "\n",
      "A =\n",
      "\n",
      "    1.0000   12.0000   30.4800\n",
      "    2.0000   24.0000   60.9600\n",
      "    3.0000   36.0000   91.4400\n",
      "\n",
      "\n",
      "Tc =\n",
      "\n",
      "  3x3 table\n",
      "\n",
      "    Feet    Inches    Centimeters\n",
      "    ____    ______    ___________\n",
      "\n",
      "     1        12         30.48   \n",
      "     2        24         60.96   \n",
      "     3        36         91.44   \n",
      "\n",
      "\n",
      "Tr =\n",
      "\n",
      "  3x3 table\n",
      "\n",
      "                     A1    A2     A3  \n",
      "                     __    __    _____\n",
      "\n",
      "    R Feet           1     12    30.48\n",
      "    R Inches         2     24    60.96\n",
      "    R Centimeters    3     36    91.44\n",
      "\n",
      "\n",
      "Trc =\n",
      "\n",
      "  3x3 table\n",
      "\n",
      "                     Feet    Inches    Centimeters\n",
      "                     ____    ______    ___________\n",
      "\n",
      "    R Feet            1        12         30.48   \n",
      "    R Inches          2        24         60.96   \n",
      "    R Centimeters     3        36         91.44   \n",
      "\n",
      "\n"
     ]
    }
   ],
   "source": [
    "A = [1 12 30.48; 2 24 60.96; 3 36 91.44]\n",
    "Tc = array2table(A,...\n",
    "    'VariableNames',{'Feet','Inches','Centimeters'})\n",
    "Tr = array2table(A,...\n",
    "    'RowNames',{'R Feet','R Inches','R Centimeters'})\n",
    "Trc = array2table(A);\n",
    "Trc.Properties.RowNames = {'R Feet','R Inches','R Centimeters'};\n",
    "Trc.Properties.VariableNames = {'Feet','Inches','Centimeters'};\n",
    "Trc"
   ]
  }
 ],
 "metadata": {
  "kernelspec": {
   "display_name": "Matlab",
   "language": "matlab",
   "name": "matlab"
  },
  "language_info": {
   "codemirror_mode": "octave",
   "file_extension": ".m",
   "help_links": [
    {
     "text": "MetaKernel Magics",
     "url": "https://metakernel.readthedocs.io/en/latest/source/README.html"
    }
   ],
   "mimetype": "text/x-octave",
   "name": "matlab",
   "version": "0.16.4"
  }
 },
 "nbformat": 4,
 "nbformat_minor": 2
}
